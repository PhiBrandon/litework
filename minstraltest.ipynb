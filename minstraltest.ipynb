{
 "cells": [
  {
   "cell_type": "code",
   "execution_count": 1,
   "metadata": {},
   "outputs": [
    {
     "name": "stdout",
     "output_type": "stream",
     "text": [
      "Defaulting to user installation because normal site-packages is not writeable\n",
      "Requirement already satisfied: langchain in /home/bphil/.local/lib/python3.10/site-packages (0.0.314)\n",
      "Requirement already satisfied: dataclasses-json<0.7,>=0.5.7 in /home/bphil/.local/lib/python3.10/site-packages (from langchain) (0.5.8)\n",
      "Requirement already satisfied: tenacity<9.0.0,>=8.1.0 in /home/bphil/.local/lib/python3.10/site-packages (from langchain) (8.2.2)\n",
      "Requirement already satisfied: numpy<2,>=1 in /home/bphil/.local/lib/python3.10/site-packages (from langchain) (1.24.3)\n",
      "Requirement already satisfied: async-timeout<5.0.0,>=4.0.0 in /home/bphil/.local/lib/python3.10/site-packages (from langchain) (4.0.2)\n",
      "Requirement already satisfied: PyYAML>=5.3 in /home/bphil/.local/lib/python3.10/site-packages (from langchain) (6.0.1)\n",
      "Requirement already satisfied: anyio<4.0 in /home/bphil/.local/lib/python3.10/site-packages (from langchain) (3.7.0)\n",
      "Requirement already satisfied: jsonpatch<2.0,>=1.33 in /home/bphil/.local/lib/python3.10/site-packages (from langchain) (1.33)\n",
      "Requirement already satisfied: SQLAlchemy<3,>=1.4 in /home/bphil/.local/lib/python3.10/site-packages (from langchain) (2.0.21)\n",
      "Requirement already satisfied: pydantic<3,>=1 in /home/bphil/.local/lib/python3.10/site-packages (from langchain) (1.10.9)\n",
      "Requirement already satisfied: langsmith<0.1.0,>=0.0.43 in /home/bphil/.local/lib/python3.10/site-packages (from langchain) (0.0.43)\n",
      "Requirement already satisfied: aiohttp<4.0.0,>=3.8.3 in /home/bphil/.local/lib/python3.10/site-packages (from langchain) (3.8.4)\n",
      "Requirement already satisfied: requests<3,>=2 in /home/bphil/.local/lib/python3.10/site-packages (from langchain) (2.31.0)\n",
      "Requirement already satisfied: attrs>=17.3.0 in /home/bphil/.local/lib/python3.10/site-packages (from aiohttp<4.0.0,>=3.8.3->langchain) (23.1.0)\n",
      "Requirement already satisfied: aiosignal>=1.1.2 in /home/bphil/.local/lib/python3.10/site-packages (from aiohttp<4.0.0,>=3.8.3->langchain) (1.3.1)\n",
      "Requirement already satisfied: frozenlist>=1.1.1 in /home/bphil/.local/lib/python3.10/site-packages (from aiohttp<4.0.0,>=3.8.3->langchain) (1.3.3)\n",
      "Requirement already satisfied: yarl<2.0,>=1.0 in /home/bphil/.local/lib/python3.10/site-packages (from aiohttp<4.0.0,>=3.8.3->langchain) (1.9.2)\n",
      "Requirement already satisfied: charset-normalizer<4.0,>=2.0 in /home/bphil/.local/lib/python3.10/site-packages (from aiohttp<4.0.0,>=3.8.3->langchain) (3.1.0)\n",
      "Requirement already satisfied: multidict<7.0,>=4.5 in /home/bphil/.local/lib/python3.10/site-packages (from aiohttp<4.0.0,>=3.8.3->langchain) (6.0.4)\n",
      "Requirement already satisfied: exceptiongroup in /home/bphil/.local/lib/python3.10/site-packages (from anyio<4.0->langchain) (1.1.1)\n",
      "Requirement already satisfied: sniffio>=1.1 in /home/bphil/.local/lib/python3.10/site-packages (from anyio<4.0->langchain) (1.3.0)\n",
      "Requirement already satisfied: idna>=2.8 in /home/bphil/.local/lib/python3.10/site-packages (from anyio<4.0->langchain) (3.4)\n",
      "Requirement already satisfied: marshmallow-enum<2.0.0,>=1.5.1 in /home/bphil/.local/lib/python3.10/site-packages (from dataclasses-json<0.7,>=0.5.7->langchain) (1.5.1)\n",
      "Requirement already satisfied: typing-inspect>=0.4.0 in /home/bphil/.local/lib/python3.10/site-packages (from dataclasses-json<0.7,>=0.5.7->langchain) (0.9.0)\n",
      "Requirement already satisfied: marshmallow<4.0.0,>=3.3.0 in /home/bphil/.local/lib/python3.10/site-packages (from dataclasses-json<0.7,>=0.5.7->langchain) (3.19.0)\n",
      "Requirement already satisfied: jsonpointer>=1.9 in /home/bphil/.local/lib/python3.10/site-packages (from jsonpatch<2.0,>=1.33->langchain) (2.4)\n",
      "Requirement already satisfied: typing-extensions>=4.2.0 in /home/bphil/.local/lib/python3.10/site-packages (from pydantic<3,>=1->langchain) (4.5.0)\n",
      "Requirement already satisfied: urllib3<3,>=1.21.1 in /home/bphil/.local/lib/python3.10/site-packages (from requests<3,>=2->langchain) (1.26.16)\n",
      "Requirement already satisfied: certifi>=2017.4.17 in /home/bphil/.local/lib/python3.10/site-packages (from requests<3,>=2->langchain) (2023.5.7)\n",
      "Requirement already satisfied: greenlet!=0.4.17 in /home/bphil/.local/lib/python3.10/site-packages (from SQLAlchemy<3,>=1.4->langchain) (2.0.2)\n",
      "Requirement already satisfied: packaging>=17.0 in /home/bphil/.local/lib/python3.10/site-packages (from marshmallow<4.0.0,>=3.3.0->dataclasses-json<0.7,>=0.5.7->langchain) (23.0)\n",
      "Requirement already satisfied: mypy-extensions>=0.3.0 in /home/bphil/.local/lib/python3.10/site-packages (from typing-inspect>=0.4.0->dataclasses-json<0.7,>=0.5.7->langchain) (1.0.0)\n",
      "Note: you may need to restart the kernel to use updated packages.\n"
     ]
    }
   ],
   "source": [
    "%pip install langchain litellm requests chromadb sentence_transformers"
   ]
  },
  {
   "cell_type": "code",
   "execution_count": 2,
   "metadata": {},
   "outputs": [],
   "source": [
    "# https://huggingface.co/datasets/fka/awesome-chatgpt-prompts/viewer/default/train?p=1&row=135 <---- Cool Prompts\n",
    "# https://api.together.xyz/playground\n",
    "from langchain.chat_models import ChatLiteLLM\n",
    "from langchain.prompts.chat import (\n",
    "    ChatPromptTemplate,\n",
    "    SystemMessagePromptTemplate,\n",
    "    AIMessagePromptTemplate,\n",
    "    HumanMessagePromptTemplate,\n",
    ")\n",
    "from langchain.schema import AIMessage, HumanMessage, SystemMessage\n",
    "from langchain.prompts import PromptTemplate\n",
    "import os"
   ]
  },
  {
   "cell_type": "code",
   "execution_count": 22,
   "metadata": {},
   "outputs": [],
   "source": [
    "os.environ['TOGETHERAI_API_KEY'] = \"API_KEY\"\n",
    "chat = ChatLiteLLM(model=\"together_ai/mistralai/Mistral-7B-Instruct-v0.1\", max_tokens=4086)"
   ]
  },
  {
   "cell_type": "code",
   "execution_count": 4,
   "metadata": {},
   "outputs": [
    {
     "name": "stderr",
     "output_type": "stream",
     "text": [
      "/home/bphil/.local/lib/python3.10/site-packages/tqdm/auto.py:21: TqdmWarning: IProgress not found. Please update jupyter and ipywidgets. See https://ipywidgets.readthedocs.io/en/stable/user_install.html\n",
      "  from .autonotebook import tqdm as notebook_tqdm\n",
      "Token indices sequence length is longer than the specified maximum sequence length for this model (1642 > 1024). Running this sequence through the model will result in indexing errors\n"
     ]
    },
    {
     "name": "stdout",
     "output_type": "stream",
     "text": [
      "1642\n",
      "Based on your resume, it appears that you have a strong background in IT and cloud computing, with experience in a variety of roles including Solutions Architect, Technical Account Manager, and IT Support Engineer. Your experience with Amazon Web Services (AWS) is particularly notable, as it is a highly sought-after skill in the tech industry.\n",
      "\n",
      "Given your background, I would recommend exploring career paths in cloud computing and software engineering. Some specific roles to consider include:\n",
      "\n",
      "1. Cloud Solutions Architect: As a Cloud Solutions Architect, you would be responsible for designing and implementing cloud-based solutions for clients. This role requires a deep understanding of cloud technologies and the ability to design and deploy complex systems.\n",
      "2. DevOps Engineer: DevOps Engineers are responsible for automating the software development process, including testing, deployment, and monitoring. This role requires a strong background in software development and a deep understanding of cloud technologies.\n",
      "3. Software Developer: Software Developers are responsible for designing, coding, and testing software applications. This role requires a strong background in programming languages such as Python, Java, or C++, as well as experience with cloud technologies.\n",
      "\n",
      "In terms of qualifications, I would recommend pursuing additional certifications in cloud computing, such as the AWS Certified Solutions Architect - Professional or the AWS Certified DevOps Engineer Professional. Additionally, pursuing a master's degree in computer science or a related field could be beneficial for advancing your career in this field.\n",
      "\n",
      "Overall, your background in IT and cloud computing, combined with your strong work ethic and attention to detail, make you well-suited for a career in cloud computing and software engineering. I would recommend exploring these career paths and pursuing additional qualifications to help you achieve your goals.\n"
     ]
    }
   ],
   "source": [
    "system_message = \"\"\"\n",
    "I want you to act as a career counselor. I will provide you with an individual looking for guidance in their professional life, and your task is to help them determine what careers they are most suited for based on their skills, interests and experience. You should also conduct research into the various options available, explain the job market trends in different industries and advice on which qualifications would be beneficial for pursuing particular fields.\"\n",
    "\"\"\"\n",
    "\n",
    "resume_file = open(\"resume.txt\", \"r\", encoding=\"utf-8\")\n",
    "resume_text = resume_file.read()\n",
    "resume_file.close()\n",
    "\n",
    "user_message = f\"I'm looking to break into tech, what are some of the top recommendations you would have based on my resume: <resume_start> {resume_text}<resume_end>\"\n",
    "template = PromptTemplate.from_template(\"\"\"\n",
    "<s>[INST] {system_message} [/INST] Model answer</s>[INST] {user_question} [/INST]                                                                          \n",
    "\"\"\")\n",
    "\n",
    "prompt = template.format(system_message=system_message, user_question=user_message)\n",
    "\n",
    "tokens = chat.get_num_tokens(prompt)\n",
    "print(tokens)\n",
    "response = chat.predict(prompt)\n",
    "print(response)"
   ]
  },
  {
   "cell_type": "code",
   "execution_count": 4,
   "metadata": {},
   "outputs": [],
   "source": [
    "def role_query(system, file_name, user):\n",
    "    system_message = system\n",
    "\n",
    "    transcript_file = open(file_name, \"r\", encoding=\"utf-8\")\n",
    "    transcript_text = transcript_file.read()\n",
    "    transcript_file.close()\n",
    "\n",
    "    user_question = f\" {user}: {transcript_text}\"\n",
    "    prompt = template.format(\n",
    "        system_message=system_message, user_question=user_question)\n",
    "\n",
    "    tokens = chat.get_num_tokens(prompt)\n",
    "    print(tokens)\n",
    "    response = chat.predict(prompt)\n",
    "    print(response)\n",
    "\n",
    "\n"
   ]
  },
  {
   "cell_type": "code",
   "execution_count": 54,
   "metadata": {},
   "outputs": [
    {
     "name": "stdout",
     "output_type": "stream",
     "text": [
      "3342\n",
      "Hey guys, it's a big news day because Activision Blizzard has officially been bought by Microsoft. The trailer for Overwatch, Fallout, and Starfield has been released. I think it's great that Microsoft is investing in these games and I'm excited to see what happens. What are your thoughts on this news? #Microsoft #ActivisionBlizzard #Gaming #Overwatch #Fallout #Starfield\n"
     ]
    }
   ],
   "source": [
    "system = \"\"\"\n",
    "I want you to act as a social media influencer. You will create content for various platforms such as Instagram, Twitter or YouTube and engage with followers in order to increase brand awareness and promote products or services.\n",
    "\"\"\"\n",
    "file_name = \"transcript_2.txt\"\n",
    "user_question = \"Please repurpose the following youtube transcript for twitter\"\n",
    "role_query(system,file_name,user_question)"
   ]
  },
  {
   "cell_type": "code",
   "execution_count": 56,
   "metadata": {},
   "outputs": [
    {
     "name": "stdout",
     "output_type": "stream",
     "text": [
      "3359\n",
      "Hello, I'm calling to tell you about the exciting news that Activision Blizzard has been acquired by Microsoft. This is a massive deal in the gaming industry, and it's great to see that Microsoft is investing in gaming.\n",
      "\n",
      "As a result of this acquisition, Activision Blizzard's CEO, Bobby Kotick, will be stepping down on January 1st, 2024. However, he will remain with the company until then and will continue to oversee the gaming division.\n",
      "\n",
      "There is a lot of speculation about what Bobby Kotick will do next. Some people think he may take on a separate leadership role at Microsoft, while others think he may focus on a metaverse project. Whatever he does, it's clear that he has made a significant impact on the gaming industry and will continue to do so in the future.\n",
      "\n",
      "In my opinion, this acquisition is a great move for Microsoft. It shows their commitment to the gaming industry and their willingness to invest in it. With Activision Blizzard's vast library of games and franchises, Microsoft is well-positioned to become a major player in the gaming world.\n",
      "\n",
      "As a gamer myself, I'm excited to see what Microsoft does with Activision Blizzard. I'm particularly interested in seeing how they handle the World of Warcraft franchise, which has been a fan favorite for years. I hope that Microsoft will continue to support and develop the game, and that it will continue to be a major part of the gaming landscape.\n",
      "\n",
      "Overall, this acquisition is a big deal in the gaming industry, and I'm excited to see what the future holds for Microsoft and Activision Blizzard.\n"
     ]
    }
   ],
   "source": [
    "system = \"\"\"\n",
    "I want you to act as a salesperson. Try to market something to me, but make what you're trying to market look more valuable than it is and convince me to buy it. Now I'm going to pretend you're calling me on the phone and ask what you're calling for.\n",
    "\"\"\"\n",
    "file_name = \"transcript_2.txt\"\n",
    "user_question = \"Please use the following transcript to create a sells conversation\"\n",
    "role_query(system,file_name,user_question)"
   ]
  },
  {
   "cell_type": "code",
   "execution_count": 5,
   "metadata": {},
   "outputs": [
    {
     "name": "stdout",
     "output_type": "stream",
     "text": [
      "James Austin Scott is an American actor and producer. He is best known for his role as Lucas Scott on the television series \"The Office (US)\" and \"Days of Our Lives.\" He has also appeared in several films, including \"The Secret Life of Walter Mitty\" and \"The Perfect Wife.\"\n"
     ]
    }
   ],
   "source": [
    "# Get recent information related to Austin scott, does mistral know about him?\n",
    "who_is = chat.predict(\"Who is James Austin Scott\")\n",
    "print(who_is)\n"
   ]
  },
  {
   "cell_type": "code",
   "execution_count": 6,
   "metadata": {},
   "outputs": [],
   "source": [
    "# It actually doesn't know, let's go ahead and get some information on him.\n",
    "import requests\n",
    "from langchain.document_transformers import BeautifulSoupTransformer\n",
    "from langchain.text_splitter import HTMLHeaderTextSplitter\n",
    "from langchain.docstore.document import Document\n",
    "\n",
    "# Initalize BS Transformer\n",
    "bs_transformer = BeautifulSoupTransformer()\n",
    "\n",
    "url = \"https://en.wikipedia.org/wiki/Austin_Scott_(politician)\"\n",
    "\n",
    "# Get the information on Austin Scott\n",
    "response = requests.get(url)\n",
    "text = response.text"
   ]
  },
  {
   "cell_type": "code",
   "execution_count": 36,
   "metadata": {},
   "outputs": [
    {
     "name": "stdout",
     "output_type": "stream",
     "text": [
      "35\n",
      "95\n"
     ]
    }
   ],
   "source": [
    "from langchain.text_splitter import RecursiveCharacterTextSplitter\n",
    "#Put it in a document\n",
    "doc = Document(page_content=text, metadata={\"source\": url})\n",
    "\n",
    "# Clean the text\n",
    "transformed_doc = bs_transformer.transform_documents([doc], tags_to_extract= [\"h1\", \"h2\", \"h3\", \"h4\" \"p\", \"ul\", \"table\", \"figure\"])\n",
    "\n",
    "# Try cleaning with HTMLsplitter and Raw text\n",
    "headers_to_split_on = [\n",
    "    (\"h1\", \"Header 1\"),\n",
    "    (\"h2\", \"Header 2\"),\n",
    "    (\"h3\", \"Header 3\"),\n",
    "    (\"h4\", \"Header 4\"),\n",
    "]\n",
    "html_splitter = HTMLHeaderTextSplitter(headers_to_split_on=headers_to_split_on)\n",
    "html_header_splits = html_splitter.split_text(text)\n",
    "print(len(html_header_splits))\n",
    "# Slice the document up\n",
    "chunk_size = 500\n",
    "chunk_overlap = 30\n",
    "text_splitter = RecursiveCharacterTextSplitter(chunk_size=chunk_size, chunk_overlap=chunk_overlap)\n",
    "splits = text_splitter.split_documents(html_header_splits)\n",
    "print(len(splits))\n"
   ]
  },
  {
   "cell_type": "code",
   "execution_count": 9,
   "metadata": {},
   "outputs": [
    {
     "name": "stderr",
     "output_type": "stream",
     "text": [
      "/home/bphil/.local/lib/python3.10/site-packages/tqdm/auto.py:21: TqdmWarning: IProgress not found. Please update jupyter and ipywidgets. See https://ipywidgets.readthedocs.io/en/stable/user_install.html\n",
      "  from .autonotebook import tqdm as notebook_tqdm\n",
      "Downloading (…)421f3/.gitattributes: 100%|██████████| 1.52k/1.52k [00:00<00:00, 5.46MB/s]\n",
      "Downloading (…)_Pooling/config.json: 100%|██████████| 190/190 [00:00<00:00, 700kB/s]\n",
      "Downloading (…)93c10421f3/README.md: 100%|██████████| 90.2k/90.2k [00:00<00:00, 2.06MB/s]\n",
      "Downloading (…)c10421f3/config.json: 100%|██████████| 684/684 [00:00<00:00, 1.57MB/s]\n",
      "Downloading (…)ce_transformers.json: 100%|██████████| 124/124 [00:00<00:00, 304kB/s]\n",
      "Downloading model.safetensors: 100%|██████████| 133M/133M [00:05<00:00, 25.7MB/s] \n",
      "Downloading pytorch_model.bin: 100%|██████████| 134M/134M [00:09<00:00, 13.8MB/s] \n",
      "Downloading (…)nce_bert_config.json: 100%|██████████| 52.0/52.0 [00:00<00:00, 80.5kB/s]\n",
      "Downloading (…)cial_tokens_map.json: 100%|██████████| 125/125 [00:00<00:00, 730kB/s]\n",
      "Downloading (…)421f3/tokenizer.json: 100%|██████████| 711k/711k [00:00<00:00, 7.44MB/s]\n",
      "Downloading (…)okenizer_config.json: 100%|██████████| 366/366 [00:00<00:00, 1.67MB/s]\n",
      "Downloading (…)93c10421f3/vocab.txt: 100%|██████████| 232k/232k [00:00<00:00, 5.93MB/s]\n",
      "Downloading (…)10421f3/modules.json: 100%|██████████| 349/349 [00:00<00:00, 2.32MB/s]\n"
     ]
    }
   ],
   "source": [
    "from langchain.embeddings import HuggingFaceBgeEmbeddings\n",
    "\n",
    "model_name = \"BAAI/bge-small-en\"\n",
    "model_kwargs = {'device': 'cpu'}\n",
    "encode_kwargs = {'normalize_embeddings': False}\n",
    "hf = HuggingFaceBgeEmbeddings(\n",
    "    model_name=model_name,\n",
    "    model_kwargs=model_kwargs,\n",
    "    encode_kwargs=encode_kwargs\n",
    ")"
   ]
  },
  {
   "cell_type": "code",
   "execution_count": 37,
   "metadata": {},
   "outputs": [],
   "source": [
    "from langchain.vectorstores import Chroma\n",
    "db = Chroma.from_documents(splits, hf)"
   ]
  },
  {
   "cell_type": "code",
   "execution_count": 42,
   "metadata": {},
   "outputs": [
    {
     "data": {
      "text/plain": [
       "['2acfbffa-6a2d-11ee-9b46-00155de4a1fb',\n",
       " '2acfc0e0-6a2d-11ee-9b46-00155de4a1fb',\n",
       " '2acfc13a-6a2d-11ee-9b46-00155de4a1fb',\n",
       " '2acfc180-6a2d-11ee-9b46-00155de4a1fb',\n",
       " '2acfc1c6-6a2d-11ee-9b46-00155de4a1fb',\n",
       " '2acfc20c-6a2d-11ee-9b46-00155de4a1fb',\n",
       " '2acfc252-6a2d-11ee-9b46-00155de4a1fb',\n",
       " '2acfc28e-6a2d-11ee-9b46-00155de4a1fb',\n",
       " '2acfc2d4-6a2d-11ee-9b46-00155de4a1fb',\n",
       " '2acfc310-6a2d-11ee-9b46-00155de4a1fb',\n",
       " '2acfc356-6a2d-11ee-9b46-00155de4a1fb',\n",
       " '2acfc392-6a2d-11ee-9b46-00155de4a1fb',\n",
       " '2acfc3ce-6a2d-11ee-9b46-00155de4a1fb',\n",
       " '2acfc414-6a2d-11ee-9b46-00155de4a1fb',\n",
       " '2acfc45a-6a2d-11ee-9b46-00155de4a1fb',\n",
       " '2acfc496-6a2d-11ee-9b46-00155de4a1fb',\n",
       " '2acfc4dc-6a2d-11ee-9b46-00155de4a1fb',\n",
       " '2acfc518-6a2d-11ee-9b46-00155de4a1fb',\n",
       " '2acfc554-6a2d-11ee-9b46-00155de4a1fb',\n",
       " '2acfc59a-6a2d-11ee-9b46-00155de4a1fb',\n",
       " '2acfc5e0-6a2d-11ee-9b46-00155de4a1fb',\n",
       " '2acfc61c-6a2d-11ee-9b46-00155de4a1fb',\n",
       " '2acfc662-6a2d-11ee-9b46-00155de4a1fb',\n",
       " '2acfc69e-6a2d-11ee-9b46-00155de4a1fb',\n",
       " '2acfc6e4-6a2d-11ee-9b46-00155de4a1fb',\n",
       " '2acfc720-6a2d-11ee-9b46-00155de4a1fb',\n",
       " '2acfc766-6a2d-11ee-9b46-00155de4a1fb',\n",
       " '2acfc7a2-6a2d-11ee-9b46-00155de4a1fb',\n",
       " '2acfc7e8-6a2d-11ee-9b46-00155de4a1fb',\n",
       " '2acfc824-6a2d-11ee-9b46-00155de4a1fb',\n",
       " '2acfc86a-6a2d-11ee-9b46-00155de4a1fb',\n",
       " '2acfc8a6-6a2d-11ee-9b46-00155de4a1fb',\n",
       " '2acfc8ec-6a2d-11ee-9b46-00155de4a1fb',\n",
       " '2acfc928-6a2d-11ee-9b46-00155de4a1fb',\n",
       " '2acfc96e-6a2d-11ee-9b46-00155de4a1fb',\n",
       " '2acfc9b4-6a2d-11ee-9b46-00155de4a1fb',\n",
       " '2acfc9f0-6a2d-11ee-9b46-00155de4a1fb',\n",
       " '2acfca36-6a2d-11ee-9b46-00155de4a1fb',\n",
       " '2acfca72-6a2d-11ee-9b46-00155de4a1fb',\n",
       " '2acfcab8-6a2d-11ee-9b46-00155de4a1fb',\n",
       " '2acfcafe-6a2d-11ee-9b46-00155de4a1fb',\n",
       " '2acfcb3a-6a2d-11ee-9b46-00155de4a1fb',\n",
       " '2acfcb76-6a2d-11ee-9b46-00155de4a1fb',\n",
       " '2acfcbbc-6a2d-11ee-9b46-00155de4a1fb',\n",
       " '2acfcc02-6a2d-11ee-9b46-00155de4a1fb',\n",
       " '2acfcc3e-6a2d-11ee-9b46-00155de4a1fb',\n",
       " '2acfcc7a-6a2d-11ee-9b46-00155de4a1fb',\n",
       " '2acfccc0-6a2d-11ee-9b46-00155de4a1fb',\n",
       " '2acfccfc-6a2d-11ee-9b46-00155de4a1fb',\n",
       " '2acfcd38-6a2d-11ee-9b46-00155de4a1fb',\n",
       " '2acfcd7e-6a2d-11ee-9b46-00155de4a1fb',\n",
       " '2acfcdba-6a2d-11ee-9b46-00155de4a1fb',\n",
       " '2acfce00-6a2d-11ee-9b46-00155de4a1fb',\n",
       " '2acfce3c-6a2d-11ee-9b46-00155de4a1fb',\n",
       " '2acfce82-6a2d-11ee-9b46-00155de4a1fb',\n",
       " '2acfcec8-6a2d-11ee-9b46-00155de4a1fb',\n",
       " '2acfcf04-6a2d-11ee-9b46-00155de4a1fb',\n",
       " '2acfcf4a-6a2d-11ee-9b46-00155de4a1fb',\n",
       " '2acfcf86-6a2d-11ee-9b46-00155de4a1fb',\n",
       " '2acfcfc2-6a2d-11ee-9b46-00155de4a1fb',\n",
       " '2acfd008-6a2d-11ee-9b46-00155de4a1fb',\n",
       " '2acfd04e-6a2d-11ee-9b46-00155de4a1fb',\n",
       " '2acfd08a-6a2d-11ee-9b46-00155de4a1fb',\n",
       " '2acfd0d0-6a2d-11ee-9b46-00155de4a1fb',\n",
       " '2acfd10c-6a2d-11ee-9b46-00155de4a1fb',\n",
       " '2acfd148-6a2d-11ee-9b46-00155de4a1fb',\n",
       " '2acfd18e-6a2d-11ee-9b46-00155de4a1fb',\n",
       " '2acfd1ca-6a2d-11ee-9b46-00155de4a1fb',\n",
       " '2acfd206-6a2d-11ee-9b46-00155de4a1fb',\n",
       " '2acfd24c-6a2d-11ee-9b46-00155de4a1fb',\n",
       " '2acfd288-6a2d-11ee-9b46-00155de4a1fb',\n",
       " '2acfd2ce-6a2d-11ee-9b46-00155de4a1fb',\n",
       " '2acfd30a-6a2d-11ee-9b46-00155de4a1fb',\n",
       " '2acfd350-6a2d-11ee-9b46-00155de4a1fb',\n",
       " '2acfd38c-6a2d-11ee-9b46-00155de4a1fb',\n",
       " '2acfd3d2-6a2d-11ee-9b46-00155de4a1fb',\n",
       " '2acfd40e-6a2d-11ee-9b46-00155de4a1fb',\n",
       " '2acfd454-6a2d-11ee-9b46-00155de4a1fb',\n",
       " '2acfd49a-6a2d-11ee-9b46-00155de4a1fb',\n",
       " '2acfd4d6-6a2d-11ee-9b46-00155de4a1fb',\n",
       " '2acfd512-6a2d-11ee-9b46-00155de4a1fb',\n",
       " '2acfd54e-6a2d-11ee-9b46-00155de4a1fb',\n",
       " '2acfd594-6a2d-11ee-9b46-00155de4a1fb',\n",
       " '2acfd5da-6a2d-11ee-9b46-00155de4a1fb',\n",
       " '2acfd620-6a2d-11ee-9b46-00155de4a1fb',\n",
       " '2acfd65c-6a2d-11ee-9b46-00155de4a1fb',\n",
       " '2acfd698-6a2d-11ee-9b46-00155de4a1fb',\n",
       " '2acfd6de-6a2d-11ee-9b46-00155de4a1fb',\n",
       " '2acfd724-6a2d-11ee-9b46-00155de4a1fb',\n",
       " '2acfd76a-6a2d-11ee-9b46-00155de4a1fb',\n",
       " '2acfd7b0-6a2d-11ee-9b46-00155de4a1fb',\n",
       " '2acfd80a-6a2d-11ee-9b46-00155de4a1fb',\n",
       " '2acfd850-6a2d-11ee-9b46-00155de4a1fb',\n",
       " '2acfd88c-6a2d-11ee-9b46-00155de4a1fb',\n",
       " '2acfd8d2-6a2d-11ee-9b46-00155de4a1fb']"
      ]
     },
     "execution_count": 42,
     "metadata": {},
     "output_type": "execute_result"
    }
   ],
   "source": [
    "\n",
    "# Add documents\n",
    "db.add_documents(splits)"
   ]
  },
  {
   "cell_type": "code",
   "execution_count": 41,
   "metadata": {},
   "outputs": [],
   "source": [
    "db.delete_collection()"
   ]
  },
  {
   "cell_type": "code",
   "execution_count": 43,
   "metadata": {},
   "outputs": [
    {
     "name": "stdout",
     "output_type": "stream",
     "text": [
      "1\n"
     ]
    }
   ],
   "source": [
    "docs = db.similarity_search(\"Who is James Austin Scott\")\n",
    "print(len(docs))\n"
   ]
  },
  {
   "cell_type": "code",
   "execution_count": 46,
   "metadata": {},
   "outputs": [
    {
     "name": "stdout",
     "output_type": "stream",
     "text": [
      "2\n",
      "230\n",
      "Austin Scott is an American politician who represents the 12th district of Georgia in the United States House of Representatives. He is a member of the Republican Party and was first elected in 2010. Scott is known for his support of various causes, including agriculture, veterans' affairs, and national security.\n",
      "\n",
      "In particular, Scott has been a strong advocate for the Agriculture Improvement Act of 2018, also known as the Farm Bill. He has spoken extensively about the importance of this legislation, which provides funding for agricultural research, conservation, and rural development programs. Scott has also been a vocal supporter of the Veterans Health Care Integration Act, which aims to improve access to healthcare for veterans.\n",
      "\n",
      "In addition to these specific causes, Scott has also been a strong advocate for national security and has spoken out against foreign threats to the United States. He has been a member of the House Armed Services Committee, which has jurisdiction over military and national security issues.\n",
      "\n",
      "Overall, Austin Scott's support for various causes reflects his commitment to improving the lives of his constituents and ensuring the safety and security of the United States.\n"
     ]
    }
   ],
   "source": [
    "# Format prompt how Mistral likes it\n",
    "question = \"What causes does Austin Scott support?\"\n",
    "template = PromptTemplate.from_template(\"\"\"\n",
    "<s>[INST] Use this additional context to help answer the User question: {system_message} [/INST] Model answer</s>[INST] User Question: {user_question} [/INST]                                                                          \n",
    "\"\"\")\n",
    "\n",
    "retriever = db.as_retriever()\n",
    "docs = retriever.get_relevant_documents(question)\n",
    "print(len(docs))\n",
    "context = \"\"\n",
    "for d in docs:\n",
    "    if chat.get_num_tokens(context) <= 3000:\n",
    "        context += d.page_content\n",
    "    else:\n",
    "        break\n",
    "    \n",
    "prompt = template.format(system_message=context, user_question=question)\n",
    "\n",
    "tokens = chat.get_num_tokens(prompt)\n",
    "print(tokens)\n",
    "who_is = chat.predict(prompt)\n",
    "print(who_is)"
   ]
  }
 ],
 "metadata": {
  "kernelspec": {
   "display_name": "Python 3",
   "language": "python",
   "name": "python3"
  },
  "language_info": {
   "codemirror_mode": {
    "name": "ipython",
    "version": 3
   },
   "file_extension": ".py",
   "mimetype": "text/x-python",
   "name": "python",
   "nbconvert_exporter": "python",
   "pygments_lexer": "ipython3",
   "version": "3.10.6"
  }
 },
 "nbformat": 4,
 "nbformat_minor": 2
}
